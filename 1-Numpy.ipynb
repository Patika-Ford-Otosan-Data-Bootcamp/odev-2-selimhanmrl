{
 "cells": [
  {
   "cell_type": "markdown",
   "id": "5aa54da6-12c1-4ea2-b6e5-9b46c52b682e",
   "metadata": {
    "tags": []
   },
   "source": [
    "# **ÖDEV-2**"
   ]
  },
  {
   "cell_type": "markdown",
   "id": "0fc79ed2-e47c-4fc8-9615-df8510cb7f1f",
   "metadata": {},
   "source": [
    "1-Numpy kütüphanesini import edin."
   ]
  },
  {
   "cell_type": "markdown",
   "id": "e9252687-0c17-419f-befc-559632204b18",
   "metadata": {},
   "source": [
    "2-1'den 5 e kadar (5 dahil) b isimli bir dizi oluşturun."
   ]
  },
  {
   "cell_type": "markdown",
   "id": "5664bfd3-8011-4575-a10a-f23b18a11fce",
   "metadata": {},
   "source": [
    "3- 20 adet 0'dan oluşan 4 x 5' lik dizi oluşturun."
   ]
  },
  {
   "cell_type": "markdown",
   "id": "b571ec93-687f-42d7-ba55-cd082eeee6fa",
   "metadata": {},
   "source": [
    "4- 15 adet 7 sayısından oluşan diziyi 3x5 olarak yazın."
   ]
  },
  {
   "cell_type": "markdown",
   "id": "ee34b066-12b3-45d9-92bc-62f88ab4c753",
   "metadata": {},
   "source": [
    "5- 10–70 e kadar 5 er artan sayıları yaz."
   ]
  },
  {
   "cell_type": "markdown",
   "id": "520efa56-fd4e-483c-a084-5ce79c0b687b",
   "metadata": {},
   "source": [
    "6- 10–20 arasında 15 aynı uzaklıkta elemanı olan array oluşturun. (linspace metodunu kullanın.)"
   ]
  },
  {
   "cell_type": "markdown",
   "id": "7b889d5c-5ae2-470d-afb8-dda163eb9109",
   "metadata": {},
   "source": [
    "7- Rastgele sayılardan oluşan diziyi 3x5 boyutunda yazdır."
   ]
  },
  {
   "cell_type": "markdown",
   "id": "ea4131f4-1ad8-465f-8cad-0e675b2d14a6",
   "metadata": {},
   "source": [
    "8- 5 elemanlı birim matris oluşturun. eye() metodu kullanın."
   ]
  },
  {
   "cell_type": "markdown",
   "id": "9977eb30-ba6a-40eb-b837-f044caf08532",
   "metadata": {},
   "source": [
    "9- 0'dan 24 e kadar array oluştur. Sonra reshape metodu ile 4x6 boyutu olarak yazın."
   ]
  },
  {
   "cell_type": "markdown",
   "id": "ed17eab4-f8c9-4c7b-8cfc-33693ecc01df",
   "metadata": {},
   "source": [
    "10- 0 ile 1 arasında rastgele 10 sayıdan oluşan bir array tanımlayın. Minimum ve maksimum değerleri bulun."
   ]
  },
  {
   "cell_type": "markdown",
   "id": "8e4d6c2a-806d-492b-bff9-a6b67b696b4e",
   "metadata": {},
   "source": [
    "11- 36 sayıdan oluşan rastgele sayılar 6x6' lık array olarak yazdırın."
   ]
  },
  {
   "cell_type": "markdown",
   "id": "c81dc2f7-5c00-4d43-853e-5cc4035e6eca",
   "metadata": {},
   "source": [
    "12- 5.satırdaki elemanları gösteriniz."
   ]
  },
  {
   "cell_type": "markdown",
   "id": "245ff696-9131-4099-b4da-fd6a742638a7",
   "metadata": {},
   "source": [
    "13- 6.satır ve 6.sutundaki elemanları gösteriniz."
   ]
  },
  {
   "cell_type": "markdown",
   "id": "0c33bb81-f4a9-4a67-8ab8-d422db01c442",
   "metadata": {},
   "source": [
    "14-4.sutundaki tüm elemanları çekin."
   ]
  },
  {
   "cell_type": "markdown",
   "id": "e1ad52f0-1293-4db1-8825-78b65b87f7ba",
   "metadata": {},
   "source": [
    "15- For döngüsünü ve flat metodunu kullanarak satır satır elemanları yazdırınız."
   ]
  },
  {
   "cell_type": "markdown",
   "id": "01f6ea0d-c5a4-41c4-a065-353930cc9fc3",
   "metadata": {},
   "source": [
    "16- 0 ile 1 aralığında bir array oluştur. Bu array değerini 5 ile çarpın."
   ]
  },
  {
   "cell_type": "markdown",
   "id": "4188e6c6-a996-479a-8659-f9786e51c7c7",
   "metadata": {},
   "source": [
    "16- Satırların toplam değeri nedir?"
   ]
  },
  {
   "cell_type": "markdown",
   "id": "8499b1c0-f59c-49f9-9371-ecba2ec4881b",
   "metadata": {},
   "source": [
    "17-Satırların standart sapma değeri nedir?"
   ]
  },
  {
   "cell_type": "markdown",
   "id": "72b44cf8-59a7-41e4-88c8-ef467855de60",
   "metadata": {},
   "source": [
    "18-Satırların varyans değeri nedir?"
   ]
  },
  {
   "cell_type": "markdown",
   "id": "84a08fe8-e474-4af1-8025-f295cc463a1a",
   "metadata": {},
   "source": [
    "19- Satırların transpoz değeri nedir?"
   ]
  }
 ],
 "metadata": {
  "kernelspec": {
   "display_name": "Python 3 (ipykernel)",
   "language": "python",
   "name": "python3"
  },
  "language_info": {
   "codemirror_mode": {
    "name": "ipython",
    "version": 3
   },
   "file_extension": ".py",
   "mimetype": "text/x-python",
   "name": "python",
   "nbconvert_exporter": "python",
   "pygments_lexer": "ipython3",
   "version": "3.9.7"
  }
 },
 "nbformat": 4,
 "nbformat_minor": 5
}
